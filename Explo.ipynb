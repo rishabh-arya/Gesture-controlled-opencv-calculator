{
 "cells": [
  {
   "cell_type": "markdown",
   "metadata": {},
   "source": [
    "# Importing libraries"
   ]
  },
  {
   "cell_type": "code",
   "execution_count": 1,
   "metadata": {},
   "outputs": [],
   "source": [
    "import numpy as np\n",
    "import matplotlib.pyplot as plt\n",
    "from keras.preprocessing.image import ImageDataGenerator, array_to_img,img_to_array,load_img\n",
    "import keras\n",
    "from keras import Sequential\n",
    "from keras.layers import Conv2D,MaxPooling2D,Flatten,Dense,Activation,Dropout\n",
    "from keras.layers.advanced_activations import LeakyReLU"
   ]
  },
  {
   "cell_type": "markdown",
   "metadata": {},
   "source": [
    "# Importing the data set and performing data augmentation"
   ]
  },
  {
   "cell_type": "code",
   "execution_count": 2,
   "metadata": {},
   "outputs": [
    {
     "name": "stdout",
     "output_type": "stream",
     "text": [
      "Found 10920 images belonging to 18 classes.\n",
      "Found 3630 images belonging to 18 classes.\n"
     ]
    }
   ],
   "source": [
    "train_path = 'C:/Users/devro/PycharmProjects/mynew1/new1/explo_prediction/'\n",
    "train_datagen = ImageDataGenerator(rescale=1./255,rotation_range = 4,\n",
    "                                   width_shift_range=0.15,\n",
    "                                   height_shift_range = 0.2,\n",
    "                                   shear_range=0.3,\n",
    "                                   fill_mode='nearest',\n",
    "                                   validation_split=0.25)\n",
    "train_set = train_datagen.flow_from_directory(directory=train_path, class_mode='categorical',\n",
    "                                                    color_mode = 'grayscale',\n",
    "                                                    target_size=(64,64), batch_size=128, shuffle=True,\n",
    "                                                    subset =\"training\")\n",
    "validation_set = train_datagen.flow_from_directory(directory=train_path,\n",
    "                                                 target_size = (64,64),\n",
    "                                                 batch_size = 64,\n",
    "                                                 class_mode = 'categorical',\n",
    "                                                 color_mode = 'grayscale',subset=\"validation\",shuffle=True)"
   ]
  },
  {
   "cell_type": "markdown",
   "metadata": {},
   "source": [
    "# Defing the model "
   ]
  },
  {
   "cell_type": "code",
   "execution_count": 3,
   "metadata": {},
   "outputs": [],
   "source": [
    "def make_model():\n",
    "    model = Sequential()\n",
    "    model.add(Conv2D(32,input_shape=(64,64,1),kernel_size=(3,3),strides=(1,1),activation='relu'))\n",
    "    padding=\"same\"\n",
    "    model.add(Conv2D(64,kernel_size=(3,3),strides=(2,2),activation='relu'))\n",
    "    padding=\"same\"\n",
    "    model.add(MaxPooling2D(pool_size=(2,2)))\n",
    "    model.add(Dropout(0.15))\n",
    "    \n",
    "\n",
    "    model.add(Conv2D(64,kernel_size=(3,3),strides=(2,2),activation='relu'))\n",
    "    padding=\"same\"\n",
    "    model.add(Conv2D(128,kernel_size=(3,3),strides=(1,1),activation='relu'))\n",
    "    padding=\"same\"\n",
    "    model.add(MaxPooling2D(pool_size=(2,2)))\n",
    "    \n",
    "    model.add(Dropout(0.25))\n",
    "    \n",
    "    model.add(Flatten())\n",
    "    \n",
    "    model.add(Dense(64,activation='relu'))\n",
    "    model.add(Dense(32,activation='relu'))\n",
    "    model.add(Dense(18,activation='softmax'))\n",
    " \n",
    "    \n",
    "    model.compile(\n",
    "          loss = 'categorical_crossentropy',\n",
    "          optimizer = 'Adam',metrics = ['accuracy']\n",
    "                )\n",
    "    return model "
   ]
  },
  {
   "cell_type": "code",
   "execution_count": 4,
   "metadata": {},
   "outputs": [
    {
     "name": "stdout",
     "output_type": "stream",
     "text": [
      "Model: \"sequential\"\n",
      "_________________________________________________________________\n",
      "Layer (type)                 Output Shape              Param #   \n",
      "=================================================================\n",
      "conv2d (Conv2D)              (None, 62, 62, 32)        320       \n",
      "_________________________________________________________________\n",
      "conv2d_1 (Conv2D)            (None, 30, 30, 64)        18496     \n",
      "_________________________________________________________________\n",
      "max_pooling2d (MaxPooling2D) (None, 15, 15, 64)        0         \n",
      "_________________________________________________________________\n",
      "dropout (Dropout)            (None, 15, 15, 64)        0         \n",
      "_________________________________________________________________\n",
      "conv2d_2 (Conv2D)            (None, 7, 7, 64)          36928     \n",
      "_________________________________________________________________\n",
      "conv2d_3 (Conv2D)            (None, 5, 5, 128)         73856     \n",
      "_________________________________________________________________\n",
      "max_pooling2d_1 (MaxPooling2 (None, 2, 2, 128)         0         \n",
      "_________________________________________________________________\n",
      "dropout_1 (Dropout)          (None, 2, 2, 128)         0         \n",
      "_________________________________________________________________\n",
      "flatten (Flatten)            (None, 512)               0         \n",
      "_________________________________________________________________\n",
      "dense (Dense)                (None, 64)                32832     \n",
      "_________________________________________________________________\n",
      "dense_1 (Dense)              (None, 32)                2080      \n",
      "_________________________________________________________________\n",
      "dense_2 (Dense)              (None, 18)                594       \n",
      "=================================================================\n",
      "Total params: 165,106\n",
      "Trainable params: 165,106\n",
      "Non-trainable params: 0\n",
      "_________________________________________________________________\n"
     ]
    }
   ],
   "source": [
    "model = make_model()\n",
    "model.summary()"
   ]
  },
  {
   "cell_type": "markdown",
   "metadata": {},
   "source": [
    "# Training the model"
   ]
  },
  {
   "cell_type": "code",
   "execution_count": 5,
   "metadata": {},
   "outputs": [
    {
     "name": "stdout",
     "output_type": "stream",
     "text": [
      "Epoch 1/20\n",
      "64/64 [==============================] - 340s 5s/step - loss: 2.7229 - accuracy: 0.1336 - val_loss: 1.1310 - val_accuracy: 0.6615\n",
      "Epoch 2/20\n",
      "64/64 [==============================] - 96s 1s/step - loss: 0.9266 - accuracy: 0.6964 - val_loss: 0.2064 - val_accuracy: 0.9473\n",
      "Epoch 3/20\n",
      "64/64 [==============================] - 58s 896ms/step - loss: 0.2545 - accuracy: 0.9151 - val_loss: 0.1222 - val_accuracy: 0.9645\n",
      "Epoch 4/20\n",
      "64/64 [==============================] - 52s 806ms/step - loss: 0.1243 - accuracy: 0.9595 - val_loss: 0.0912 - val_accuracy: 0.9779\n",
      "Epoch 5/20\n",
      "64/64 [==============================] - 50s 781ms/step - loss: 0.0880 - accuracy: 0.9720 - val_loss: 0.0700 - val_accuracy: 0.9782\n",
      "Epoch 6/20\n",
      "64/64 [==============================] - 49s 768ms/step - loss: 0.0764 - accuracy: 0.9757 - val_loss: 0.0474 - val_accuracy: 0.9847\n",
      "Epoch 7/20\n",
      "64/64 [==============================] - 50s 787ms/step - loss: 0.0517 - accuracy: 0.9825 - val_loss: 0.0642 - val_accuracy: 0.9840\n",
      "Epoch 8/20\n",
      "64/64 [==============================] - 51s 789ms/step - loss: 0.0546 - accuracy: 0.9824 - val_loss: 0.0467 - val_accuracy: 0.9863\n",
      "Epoch 9/20\n",
      "64/64 [==============================] - 50s 779ms/step - loss: 0.0388 - accuracy: 0.9857 - val_loss: 0.0774 - val_accuracy: 0.9805\n",
      "Epoch 10/20\n",
      "64/64 [==============================] - 50s 783ms/step - loss: 0.0288 - accuracy: 0.9891 - val_loss: 0.0602 - val_accuracy: 0.9850\n",
      "Epoch 11/20\n",
      "64/64 [==============================] - 49s 761ms/step - loss: 0.0263 - accuracy: 0.9916 - val_loss: 0.0596 - val_accuracy: 0.9824\n"
     ]
    }
   ],
   "source": [
    "h = model.fit(\n",
    "      train_set,validation_data = validation_set,\n",
    "                              epochs=20,steps_per_epoch = 64,validation_steps = 48,\n",
    "                              callbacks = [\n",
    "                              keras.callbacks.EarlyStopping(monitor='val_loss',patience=3,mode='auto'),\n",
    "                              keras.callbacks.ModelCheckpoint('explo/model_{val_loss:.3f}.h5',\n",
    "                              save_best_only = True,save_weights_only=False,\n",
    "                              monitor='val_loss')\n",
    "                              ]\n",
    "\n",
    "\n",
    ")\n",
    "model.save('explo_model.h5')"
   ]
  },
  {
   "cell_type": "code",
   "execution_count": 6,
   "metadata": {},
   "outputs": [],
   "source": [
    "## Loading the saved model\n",
    "from keras.models import load_model\n",
    "model = load_model('explo_model.h5')"
   ]
  },
  {
   "cell_type": "code",
   "execution_count": 10,
   "metadata": {},
   "outputs": [
    {
     "data": {
      "image/png": "[encoded data removed]",
      "text/plain": [
       "<Figure size 432x288 with 1 Axes>"
      ]
     },
     "metadata": {
      "needs_background": "light"
     },
     "output_type": "display_data"
    },
    {
     "data": {
      "image/png": "[encoded data removed]",
      "text/plain": [
       "<Figure size 432x288 with 1 Axes>"
      ]
     },
     "metadata": {
      "needs_background": "light"
     },
     "output_type": "display_data"
    }
   ],
   "source": [
    "%matplotlib inline\n",
    "accu= h.history['accuracy']\n",
    "val_acc=h.history['val_accuracy']\n",
    "loss=h.history['loss']\n",
    "val_loss=h.history['val_loss']\n",
    "\n",
    "epochs=range(len(accu)) #No. of epochs\n",
    "\n",
    "import matplotlib.pyplot as plt\n",
    "plt.plot(epochs,accu,'r',label='Training Accuracy')\n",
    "plt.plot(epochs,val_acc,'g',label='Testing Accuracy')\n",
    "plt.legend()\n",
    "plt.xlabel('No. of epochs')\n",
    "plt.ylabel('Accuracy score')\n",
    "plt.figure()\n",
    "\n",
    "#Plot training and validation loss per epoch\n",
    "plt.plot(epochs,loss,'r',label='Training Loss')\n",
    "plt.plot(epochs,val_loss,'g',label='Testing Loss')\n",
    "plt.xlabel('No. of epochs')\n",
    "plt.ylabel('Loss score')\n",
    "plt.legend()\n",
    "plt.show()\n",
    "\t\t\n"
   ]
  },
  {
   "cell_type": "code",
   "execution_count": 8,
   "metadata": {},
   "outputs": [
    {
     "data": {
      "text/plain": [
       "{'gesture-0': 0,\n",
       " 'gesture-1': 1,\n",
       " 'gesture-10': 2,\n",
       " 'gesture-11': 3,\n",
       " 'gesture-12': 4,\n",
       " 'gesture-13': 5,\n",
       " 'gesture-14': 6,\n",
       " 'gesture-15': 7,\n",
       " 'gesture-16': 8,\n",
       " 'gesture-17': 9,\n",
       " 'gesture-2': 10,\n",
       " 'gesture-3': 11,\n",
       " 'gesture-4': 12,\n",
       " 'gesture-5': 13,\n",
       " 'gesture-6': 14,\n",
       " 'gesture-7': 15,\n",
       " 'gesture-8': 16,\n",
       " 'gesture-9': 17}"
      ]
     },
     "execution_count": 8,
     "metadata": {},
     "output_type": "execute_result"
    }
   ],
   "source": [
    "train_set.class_indices\n"
   ]
  },
  {
   "cell_type": "code",
   "execution_count": 9,
   "metadata": {},
   "outputs": [],
   "source": [
    "labels = ['0','1','+','-','*','/','Confirm','**','%','Clear','2','3','4','5','6','7','8','9']\n"
   ]
  },
  {
   "cell_type": "code",
   "execution_count": null,
   "metadata": {},
   "outputs": [],
   "source": []
  },
  {
   "cell_type": "code",
   "execution_count": null,
   "metadata": {},
   "outputs": [],
   "source": []
  }
 ],
 "metadata": {
  "kernelspec": {
   "display_name": "Python 3",
   "language": "python",
   "name": "python3"
  },
  "language_info": {
   "codemirror_mode": {
    "name": "ipython",
    "version": 3
   },
   "file_extension": ".py",
   "mimetype": "text/x-python",
   "name": "python",
   "nbconvert_exporter": "python",
   "pygments_lexer": "ipython3",
   "version": "3.8.5"
  }
 },
 "nbformat": 4,
 "nbformat_minor": 4
}
